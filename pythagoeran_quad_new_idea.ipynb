{
 "cells": [
  {
   "cell_type": "markdown",
   "metadata": {},
   "source": [
    "![](latticegridquadrilateral.png)"
   ]
  },
  {
   "cell_type": "markdown",
   "metadata": {},
   "source": [
    "find the number of unique lattice pythagoeran quadrilateral for which the radius of the circumcircle is r\n",
    "given ABCD a quadirlateral\n",
    "\n",
    "the coordinate of the points A,B,C and D are\n",
    " - A -> [xA,yA]\n",
    " - B -> [xB,yB]\n",
    " - C -> [xC,yC]\n",
    " - D -> [xD,yD]\n",
    "\n",
    "and the Segments a,b,c and d are defined as follow:\n",
    " - a -> AB\n",
    " - b -> BC\n",
    " - c -> CD\n",
    " - d -> DA\n",
    "\n",
    "the quadrilateral is a pythagoeran quadrilateral if and onli if\n",
    "a²+b²+c²+d²=r²\n",
    "\n",
    "with:\n",
    " - xA²+yA=r² \n",
    " - xB²+yB=r²\n",
    " - xC²+yC=r²\n",
    " - xD²+yD=r²\n",
    "\n",
    "furthermore pythagoeran quadrilateral is a lattice pythagoeran quadrilateral if and onli if all four vertices are lattice grid points\n",
    "\n",
    "so \n",
    "\n",
    "xA,yA,xB,yB,xC,yC,xD,yD must be Natural number\n",
    "\n",
    "and:\n",
    " - abs(xA) < r\n",
    " - abs(YA) < r\n",
    " - abs(xB) < r\n",
    " - abs(YB) < r\n",
    " - abs(xC) < r\n",
    " - abs(YC) < r\n",
    " - abs(xD) < r\n",
    " - abs(YD) < r\n",
    " \n",
    " in the end the problem can be reduced to determine the number of solution of the following system:\n",
    " \n",
    "\n",
    " - (1)  a² + b² + c² + d² = 8r² (1) \n",
    " - (2)  (yB - yA)² + (xB - xA)² = a² \n",
    " - (3)  (yC - yB)² + (xC - xB)² = b²\n",
    " - (4)  (yD - yC)² + (xD - xC)² = c²\n",
    " - (5)  (yA - yD)² + (xA - xD)² = d²\n",
    " - (6)  xA² + yA² = r² \n",
    " - (7)  xB² + yB² = r²\n",
    " - (8)  xC² + yC² = r²\n",
    " - (9)  xD² + yD² = r²\n",
    "\n",
    " \n",
    "reorganizing the system becomes:\n",
    "\n",
    " - yByA + xBxA + yCyB + xCxB + yDyC + xDxC + yAyD + xAxD = 0 \n",
    " \n",
    " with :\n",
    " \n",
    "- xA,yA,xB,yB,xC,yC,xD,yD  Natural \n",
    "\n",
    "and:\n",
    " - abs(xA) < r\n",
    " - abs(YA) < r\n",
    " - abs(xB) < r\n",
    " - abs(YB) < r\n",
    " - abs(xC) < r\n",
    " - abs(YC) < r\n",
    " - abs(xD) < r\n",
    " - abs(YD) < r\n",
    "\n"
   ]
  },
  {
   "cell_type": "code",
   "execution_count": 43,
   "metadata": {
    "ExecuteTime": {
     "end_time": "2020-08-13T09:51:18.582943Z",
     "start_time": "2020-08-13T09:51:18.568777Z"
    }
   },
   "outputs": [
    {
     "name": "stdout",
     "output_type": "stream",
     "text": [
      "0\n",
      "1\n",
      "2\n",
      "3\n",
      "4\n",
      "5\n"
     ]
    }
   ],
   "source": [
    "import math\n",
    "\n",
    "n=25\n",
    "rang=int(math.sqrt(n))\n",
    "\n",
    "for i in range(rang+1):\n",
    "    print(i)"
   ]
  },
  {
   "cell_type": "code",
   "execution_count": 34,
   "metadata": {
    "ExecuteTime": {
     "end_time": "2020-08-13T09:50:10.071864Z",
     "start_time": "2020-08-13T09:50:10.052888Z"
    }
   },
   "outputs": [
    {
     "data": {
      "text/plain": [
       "{5: 6, 13: 3, 17: 2, 29: 1, 37: 1, 41: 1, 53: 1, 61: 1}"
      ]
     },
     "execution_count": 34,
     "metadata": {},
     "output_type": "execute_result"
    }
   ],
   "source": [
    "from sympy import factorint\n",
    "factorint(1411033124176203125)"
   ]
  },
  {
   "cell_type": "code",
   "execution_count": 44,
   "metadata": {
    "ExecuteTime": {
     "end_time": "2020-08-13T09:51:54.894427Z",
     "start_time": "2020-08-13T09:51:54.879471Z"
    }
   },
   "outputs": [],
   "source": [
    "def isqrt(n=5):\n",
    "    \"\"\"determin the closest integer squareroot from n\"\"\"\n",
    "    x = n\n",
    "    y = (x + 1) // 2\n",
    "    while y < x:\n",
    "        x = y\n",
    "        y = (x + n // x) // 2 \n",
    "    return x\n",
    "\n",
    "def possible_quadrilateral_points(r=5):\n",
    "    \"\"\"find the crossing point of a circle of radius r and the lattice grid\"\"\"\n",
    "    rang=int(2*isqrt(r**2)+1)\n",
    "    rang\n",
    "    points=[]\n",
    "    for i in range(rang):\n",
    "        a=(i-isqrt(r**2))\n",
    "        for j in range(rang):\n",
    "            b=(j-isqrt(r**2))\n",
    "            if int(a**2)+int(b**2)==round(r**2):\n",
    "                points.append([a,b])\n",
    "    return points\n",
    "\n",
    "def get_comb(x=['1','2','3','4','5','6','7','8'],n=4):\n",
    "    \"\"\"get all cpossible combinaison of n element in the list x\"\"\"\n",
    "    combinations=set((itertools.combinations(x,n)))\n",
    "    #combinations\n",
    "    return combinations\n",
    "\n",
    "\n",
    "def number_of_possible_quadrilaterals(n=5):\n",
    "    \"\"\"determine the number of pythagorean lattice grid quadrilateral\"\"\"\n",
    "    # get all possible points for the quadrilateral\n",
    "    points=possible_quadrilateral_points(n)\n",
    "\n",
    "    # order the points in proper order\n",
    "    even_p=[]\n",
    "    odd_p=[]\n",
    "    for i in range(len(points)):\n",
    "        if i%2==0:\n",
    "            even_p.append(points[i])\n",
    "        else:\n",
    "            odd_p.append(points[-i])\n",
    "    points=even_p+ odd_p\n",
    "\n",
    "    # build a point dictionary\n",
    "    points_dict={}\n",
    "    for i in range(len(points)):\n",
    "        points_dict[(i+1)]=points[i]\n",
    "\n",
    "    x=list(points_dict.keys())\n",
    "    k=4\n",
    "\n",
    "    # get all possible quadrilaterals\n",
    "    combi=get_comb(x,k)\n",
    "\n",
    "    # get all possible Pythagorean quadrilaterals, that verify the relation a²+b²+c²+d²=8r²\n",
    "    sum_pyth_quad=0\n",
    "    for element in combi:\n",
    "        A=points_dict[element[0]]\n",
    "        B=points_dict[element[1]]\n",
    "        C=points_dict[element[2]]\n",
    "        D=points_dict[element[3]]\n",
    "        a2=((B[0]-A[0])**2+(B[1]-A[1])**2)\n",
    "        b2=((C[0]-B[0])**2+(C[1]-B[1])**2)\n",
    "        c2=((D[0]-C[0])**2+(D[1]-C[1])**2)\n",
    "        d2=((A[0]-D[0])**2+(A[1]-D[1])**2)\n",
    "        if round(a2+b2+c2+d2)==round(8*n*n):\n",
    "            #print(A,B,C,D)\n",
    "            sum_pyth_quad+=1\n",
    "    return sum_pyth_quad"
   ]
  },
  {
   "cell_type": "code",
   "execution_count": 46,
   "metadata": {
    "ExecuteTime": {
     "end_time": "2020-08-13T09:52:13.939770Z",
     "start_time": "2020-08-13T09:52:13.919451Z"
    }
   },
   "outputs": [
    {
     "data": {
      "text/plain": [
       "38"
      ]
     },
     "execution_count": 46,
     "metadata": {},
     "output_type": "execute_result"
    }
   ],
   "source": [
    "number_of_possible_quadrilaterals(5**(1/2))"
   ]
  },
  {
   "cell_type": "code",
   "execution_count": 93,
   "metadata": {
    "ExecuteTime": {
     "end_time": "2020-08-13T10:12:41.091181Z",
     "start_time": "2020-08-13T10:12:40.952477Z"
    }
   },
   "outputs": [
    {
     "data": {
      "image/png": "[encoded data removed]",
      "text/plain": [
       "<Figure size 720x720 with 1 Axes>"
      ]
     },
     "metadata": {
      "needs_background": "light"
     },
     "output_type": "display_data"
    }
   ],
   "source": [
    "a=math.sqrt(2)\n",
    "import numpy as np\n",
    "import matplotlib.pyplot as plt\n",
    "#import matplotlib.patches as patches\n",
    "def Circle(radius):\n",
    "    plt.figure(figsize=(10,10))\n",
    "    circle=plt.Circle((0,0),radius,color=None, edgecolor='blue',facecolor=None,linewidth='1')\n",
    "    plt.gca().add_patch(circle)\n",
    "    plt.plot()\n",
    "    #plt.axis('axis')\n",
    "    # Major ticks every 20, minor ticks every 5\n",
    "    major_ticks = np.arange(-radius, radius+1, 1)\n",
    "\n",
    "\n",
    "    plt.xticks(major_ticks)\n",
    "    plt.yticks(major_ticks)\n",
    "\n",
    "\n",
    "    plt.title('Circle')\n",
    "    plt.grid(which='both')\n",
    "    plt.show()\n",
    "def main():\n",
    "    #radius=float(input('Enter the radius:'))\n",
    "    radius=math.sqrt(25)\n",
    "    Circle(float(radius))\n",
    "\n",
    "main()\n",
    "\n"
   ]
  },
  {
   "cell_type": "code",
   "execution_count": null,
   "metadata": {},
   "outputs": [],
   "source": []
  }
 ],
 "metadata": {
  "kernelspec": {
   "display_name": "Python 3",
   "language": "python",
   "name": "python3"
  },
  "language_info": {
   "codemirror_mode": {
    "name": "ipython",
    "version": 3
   },
   "file_extension": ".py",
   "mimetype": "text/x-python",
   "name": "python",
   "nbconvert_exporter": "python",
   "pygments_lexer": "ipython3",
   "version": "3.7.7"
  },
  "toc": {
   "base_numbering": 1,
   "nav_menu": {},
   "number_sections": true,
   "sideBar": true,
   "skip_h1_title": false,
   "title_cell": "Table of Contents",
   "title_sidebar": "Contents",
   "toc_cell": false,
   "toc_position": {},
   "toc_section_display": true,
   "toc_window_display": false
  }
 },
 "nbformat": 4,
 "nbformat_minor": 4
}
