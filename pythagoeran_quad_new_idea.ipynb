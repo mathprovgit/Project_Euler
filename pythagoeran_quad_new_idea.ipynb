{
 "cells": [
  {
   "cell_type": "markdown",
   "metadata": {},
   "source": [
    "![](latticegridquadrilateral.png)"
   ]
  },
  {
   "cell_type": "markdown",
   "metadata": {},
   "source": [
    "find the number of unique lattice pythagoeran quadrilateral for which the radius of the circumcircle is r\n",
    "given ABCD a quadirlateral\n",
    "\n",
    "the coordinate of the points A,B,C and D are\n",
    " - A -> [xA,yA]\n",
    " - B -> [xB,yB]\n",
    " - C -> [xC,yC]\n",
    " - D -> [xD,yD]\n",
    "\n",
    "and the Segments a,b,c and d are defined as follow:\n",
    " - a -> AB\n",
    " - b -> BC\n",
    " - c -> CD\n",
    " - d -> DA\n",
    "\n",
    "the quadrilateral is a pythagoeran quadrilateral if and onli if\n",
    "a²+b²+c²+d²=r²\n",
    "\n",
    "with:\n",
    " - xA²+yA=r² \n",
    " - xB²+yB=r²\n",
    " - xC²+yC=r²\n",
    " - xD²+yD=r²\n",
    "\n",
    "furthermore pythagoeran quadrilateral is a lattice pythagoeran quadrilateral if and onli if all four vertices are lattice grid points\n",
    "\n",
    "so \n",
    "\n",
    "xA,yA,xB,yB,xC,yC,xD,yD must be Natural number\n",
    "\n",
    "and:\n",
    " - abs(xA) < r\n",
    " - abs(YA) < r\n",
    " - abs(xB) < r\n",
    " - abs(YB) < r\n",
    " - abs(xC) < r\n",
    " - abs(YC) < r\n",
    " - abs(xD) < r\n",
    " - abs(YD) < r\n",
    " \n",
    " in the end the problem can be reduced to determine the number of solution of the following system:\n",
    " \n",
    " - (1)  a²+b²+c²+d²=8r² (1) \n",
    " - (2)  (yB - yA)² + (xB - xA)² = a² \n",
    " - (3)  (yC - yB)² + (xC - xB)² = b²\n",
    " - (4)  (yD - yC)² + (xD - xC)² = c²\n",
    " - (5)  (yA - yA)² + (xA - xD)² = d²\n",
    " - (6)  xA²+yA=r² \n",
    " - (7)  xB²+yB=r²\n",
    " - (8)  xC²+yC=r²\n",
    " - (9)  xD²+yD=r²\n",
    "\n",
    "reorgenizing\n"
   ]
  },
  {
   "cell_type": "markdown",
   "metadata": {},
   "source": []
  }
 ],
 "metadata": {
  "kernelspec": {
   "display_name": "Python 3",
   "language": "python",
   "name": "python3"
  },
  "language_info": {
   "codemirror_mode": {
    "name": "ipython",
    "version": 3
   },
   "file_extension": ".py",
   "mimetype": "text/x-python",
   "name": "python",
   "nbconvert_exporter": "python",
   "pygments_lexer": "ipython3",
   "version": "3.7.7"
  },
  "toc": {
   "base_numbering": 1,
   "nav_menu": {},
   "number_sections": true,
   "sideBar": true,
   "skip_h1_title": false,
   "title_cell": "Table of Contents",
   "title_sidebar": "Contents",
   "toc_cell": false,
   "toc_position": {},
   "toc_section_display": true,
   "toc_window_display": false
  }
 },
 "nbformat": 4,
 "nbformat_minor": 4
}
