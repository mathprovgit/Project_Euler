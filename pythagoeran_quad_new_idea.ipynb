{
 "cells": [
  {
   "cell_type": "markdown",
   "metadata": {},
   "source": [
    "![](latticegridquadrilateral.png)"
   ]
  },
  {
   "cell_type": "markdown",
   "metadata": {},
   "source": [
    "find the number of unique lattice pythagoeran quadrilateral for which the radius of the circumcircle is r\n",
    "given ABCD a quadirlateral\n",
    "\n",
    "the coordinate of the points A,B,C and D are\n",
    " - A -> [xA,yA]\n",
    " - B -> [xB,yB]\n",
    " - C -> [xC,yC]\n",
    " - D -> [xD,yD]\n",
    "\n",
    "and the Segments a,b,c and d are defined as follow:\n",
    " - a -> AB\n",
    " - b -> BC\n",
    " - c -> CD\n",
    " - d -> DA\n",
    "\n",
    "the quadrilateral is a pythagoeran quadrilateral if and onli if\n",
    "a²+b²+c²+d²=r²\n",
    "\n",
    "with:\n",
    " - xA²+yA=r² \n",
    " - xB²+yB=r²\n",
    " - xC²+yC=r²\n",
    " - xD²+yD=r²\n",
    "\n",
    "furthermore pythagoeran quadrilateral is a lattice pythagoeran quadrilateral if and onli if all four vertices are lattice grid points\n",
    "\n",
    "so \n",
    "\n",
    "xA,yA,xB,yB,xC,yC,xD,yD must be Natural number\n",
    "\n",
    "and:\n",
    " - abs(xA) < r\n",
    " - abs(YA) < r\n",
    " - abs(xB) < r\n",
    " - abs(YB) < r\n",
    " - abs(xC) < r\n",
    " - abs(YC) < r\n",
    " - abs(xD) < r\n",
    " - abs(YD) < r\n",
    " \n",
    " in the end the problem can be reduced to determine the number of solution of the following system:\n",
    " \n",
    "\n",
    " - (1)  a² + b² + c² + d² = 8r² (1) \n",
    " - (2)  (yB - yA)² + (xB - xA)² = a² \n",
    " - (3)  (yC - yB)² + (xC - xB)² = b²\n",
    " - (4)  (yD - yC)² + (xD - xC)² = c²\n",
    " - (5)  (yA - yD)² + (xA - xD)² = d²\n",
    " - (6)  xA² + yA² = r² \n",
    " - (7)  xB² + yB² = r²\n",
    " - (8)  xC² + yC² = r²\n",
    " - (9)  xD² + yD² = r²\n",
    "\n",
    " \n",
    "reorganizing the system becomes:\n",
    "\n",
    " - yByA + xBxA + yCyB + xCxB + yDyC + xDxC + yAyD + xAxD = 0 \n",
    " \n",
    " with :\n",
    " \n",
    "- xA,yA,xB,yB,xC,yC,xD,yD  Natural \n",
    "\n",
    "and:\n",
    " - abs(xA) <= r\n",
    " - abs(YA) <= r\n",
    " - abs(xB) <= r\n",
    " - abs(YB) <= r\n",
    " - abs(xC) <= r\n",
    " - abs(YC) <= r\n",
    " - abs(xD) <= r\n",
    " - abs(YD) <= r\n",
    "\n"
   ]
  },
  {
   "cell_type": "code",
   "execution_count": 1,
   "metadata": {
    "ExecuteTime": {
     "end_time": "2020-09-24T08:03:30.875848Z",
     "start_time": "2020-09-24T08:03:30.851912Z"
    },
    "code_folding": [
     0
    ]
   },
   "outputs": [
    {
     "data": {
      "text/plain": [
       "[[-4, 3],\n",
       " [-3, 4],\n",
       " [0, 5],\n",
       " [3, 4],\n",
       " [4, 3],\n",
       " [5, 0],\n",
       " [4, -3],\n",
       " [3, -4],\n",
       " [0, -5],\n",
       " [-3, -4],\n",
       " [-4, -3],\n",
       " [-5, 0]]"
      ]
     },
     "execution_count": 1,
     "metadata": {},
     "output_type": "execute_result"
    }
   ],
   "source": [
    "# tests\n",
    "import math\n",
    "\n",
    "r=25**(1/2)\n",
    "points=[]\n",
    "for i in range(int(r)*2+1):\n",
    "    A=i-int(r)\n",
    "    B_sup=math.sqrt(round(r**2)-A**2)\n",
    "    if B_sup== int(B_sup):\n",
    "        B=int(B_sup)\n",
    "        points.append([A,B])\n",
    "if list(map(lambda x: -x , points[-1]))==points[0]:\n",
    "    points=points[1:]\n",
    "neg_points=[]\n",
    "for point in points:\n",
    "    neg_points.append([-point[0],-point[1]])\n",
    "points=points+neg_points\n",
    "points"
   ]
  },
  {
   "cell_type": "code",
   "execution_count": 2,
   "metadata": {
    "ExecuteTime": {
     "end_time": "2020-09-24T08:03:31.468819Z",
     "start_time": "2020-09-24T08:03:31.451363Z"
    }
   },
   "outputs": [
    {
     "data": {
      "text/plain": [
       "False"
      ]
     },
     "execution_count": 2,
     "metadata": {},
     "output_type": "execute_result"
    }
   ],
   "source": [
    "list(map(lambda x: -x , points[-1]))==points[0]"
   ]
  },
  {
   "cell_type": "code",
   "execution_count": 3,
   "metadata": {
    "ExecuteTime": {
     "end_time": "2020-09-24T08:03:34.674172Z",
     "start_time": "2020-09-24T08:03:34.651383Z"
    },
    "code_folding": [
     2,
     19,
     28
    ],
    "scrolled": true
   },
   "outputs": [
    {
     "name": "stdout",
     "output_type": "stream",
     "text": [
      "[[0, 1], [1, 0], [0, -1], [-1, 0]]\n",
      "----------------------------------------\n",
      "[[-1, 0], [0, -1], [0, 1], [1, 0]]\n"
     ]
    }
   ],
   "source": [
    "import math\n",
    "\n",
    "def possible_quadrilateral_points2(r=(17*13*5)**(1/2)):\n",
    "\n",
    "    points=[]\n",
    "    for i in range(int(r)*2+1):\n",
    "        A=i-int(r)\n",
    "        B_sup=math.sqrt(round(r**2)-A**2)\n",
    "        if B_sup== int(B_sup):\n",
    "            B=int(B_sup)\n",
    "            points.append([A,B])\n",
    "    if list(map(lambda x: -x , points[-1]))==points[0]:\n",
    "        points=points[1:]\n",
    "    neg_points=[]\n",
    "    for point in points:\n",
    "        neg_points.append([-point[0],-point[1]])\n",
    "    points=points+neg_points\n",
    "    return points\n",
    "\n",
    "def isqrt(n=5):\n",
    "    \"\"\"determin the closest integer squareroot from n\"\"\"\n",
    "    x = n\n",
    "    y = (x + 1) // 2\n",
    "    while y < x:\n",
    "        x = y\n",
    "        y = (x + n // x) // 2 \n",
    "    return x\n",
    "\n",
    "def possible_quadrilateral_points(r=5**(1/2)):\n",
    "    \"\"\"find the crossing point of a circle of radius r and the lattice grid\"\"\"\n",
    "    rang=int(2*isqrt(r**2)+1)\n",
    "    rang\n",
    "    points=[]\n",
    "    for i in range(rang):\n",
    "        a=(i-isqrt(r**2))\n",
    "        for j in range(rang):\n",
    "            b=(j-isqrt(r**2))\n",
    "            if int(a**2)+int(b**2)==round(r**2):\n",
    "                points.append([int(a),int(b)])\n",
    "    return points\n",
    "possible_quadrilateral_points(r=5**(1/2))\n",
    "\n",
    "r=1**(1/2)\n",
    "print(possible_quadrilateral_points2(r))\n",
    "print(40*'-')\n",
    "print(possible_quadrilateral_points(r))\n"
   ]
  },
  {
   "cell_type": "code",
   "execution_count": 4,
   "metadata": {
    "ExecuteTime": {
     "end_time": "2020-09-24T08:03:35.008727Z",
     "start_time": "2020-09-24T08:03:35.003731Z"
    },
    "code_folding": []
   },
   "outputs": [],
   "source": [
    "n=(5**2)*(13**1)*(17**0)\n",
    "#n=29*37*41*53*61\n",
    "#n=(5**3)*(13**3)*(17**2)\n",
    "#n=325"
   ]
  },
  {
   "cell_type": "code",
   "execution_count": 5,
   "metadata": {
    "ExecuteTime": {
     "end_time": "2020-09-24T08:03:36.552345Z",
     "start_time": "2020-09-24T08:03:35.916204Z"
    },
    "code_folding": [
     0
    ]
   },
   "outputs": [
    {
     "data": {
      "text/plain": [
       "(325, 2370)"
      ]
     },
     "execution_count": 5,
     "metadata": {},
     "output_type": "execute_result"
    }
   ],
   "source": [
    "#3 split into 4 list to solve independenly from each other\n",
    "\n",
    "from sympy import factorint\n",
    "from scipy.special import comb\n",
    "import itertools \n",
    "import math\n",
    "\n",
    "schow_intermediate_results=False\n",
    "#n=(5**2)*(13**1)\n",
    "def possible_quadrilateral_points(r=(17*13*5)**(1/2)):\n",
    "\n",
    "    points=[]\n",
    "    for i in range(int(r)*2+1):\n",
    "        A=i-int(r)\n",
    "        B_sup=math.sqrt(round(r**2)-A**2)\n",
    "        if B_sup== int(B_sup):\n",
    "            B=int(B_sup)\n",
    "            points.append([A,B])\n",
    "    if list(map(lambda x: -x , points[-1]))==points[0]:\n",
    "        points=points[1:]\n",
    "    neg_points=[]\n",
    "    for point in points:\n",
    "        neg_points.append([-point[0],-point[1]])\n",
    "    points=points+neg_points\n",
    "    return points\n",
    "\n",
    "def get_comb(x=['1','2','3','4','5','6','7','8'],n=4):\n",
    "    \"\"\"get all cpossible combinaison of n element in the list x\"\"\"\n",
    "    combinations=set((itertools.combinations(x,n)))\n",
    "    #combinations\n",
    "    return combinations\n",
    "\n",
    "\n",
    "def number_of_possible_quadrilaterals(n=5):\n",
    "    \"\"\"determine the number of pythagorean lattice grid quadrilateral\"\"\"\n",
    "    # get all possible points for the quadrilateral\n",
    "    points=possible_quadrilateral_points(n)\n",
    "\n",
    "\n",
    "    # build a point dictionary\n",
    "    points_dict={}\n",
    "    for i in range(len(points)):\n",
    "        points_dict[(i+1)]=points[i]\n",
    "\n",
    "    x=list(points_dict.keys())\n",
    "    k=4\n",
    "\n",
    "    # get all possible quadrilaterals\n",
    "    combi=get_comb(x,k)\n",
    "\n",
    "    # get all possible Pythagorean quadrilaterals, that verify the relation a²+b²+c²+d²=8r²\n",
    "    sum_pyth_quad=0\n",
    "    for element in combi:\n",
    "        A=points_dict[element[0]]\n",
    "        B=points_dict[element[1]]\n",
    "        C=points_dict[element[2]]\n",
    "        D=points_dict[element[3]]\n",
    "        a2=((B[0]-A[0])**2+(B[1]-A[1])**2)\n",
    "        b2=((C[0]-B[0])**2+(C[1]-B[1])**2)\n",
    "        c2=((D[0]-C[0])**2+(D[1]-C[1])**2)\n",
    "        d2=((A[0]-D[0])**2+(A[1]-D[1])**2)\n",
    "        if round(a2+b2+c2+d2)==round(8*n*n):\n",
    "            #print(A,B,C,D)\n",
    "            sum_pyth_quad+=1\n",
    "    return sum_pyth_quad\n",
    "\n",
    "######### new IDEA concerning the memory problem######\n",
    "\n",
    "\n",
    "\n",
    "#get prime factors of n\n",
    "prim_factors=factorint(n)\n",
    "if schow_intermediate_results:\n",
    "    print(40*'-')\n",
    "    print('The prime factor decomposition n:',n,'-->',prim_factors)\n",
    "    print(40*'-')\n",
    "nums=list(prim_factors.keys())\n",
    "exp_max=list(prim_factors.values())\n",
    "\n",
    "#find all terms of the sum\n",
    "\n",
    "    #find all the exponents of the prime factors \n",
    "numbs=[]\n",
    "for i in range(len(nums)):\n",
    "    nu=[]\n",
    "    for exp in range(exp_max[i]+1):\n",
    "        nu.append(nums[i]**exp)\n",
    "    numbs.append(nu)\n",
    "\n",
    "    #get all the combinaison of prime factor exponents\n",
    "combi=list(itertools.product(*numbs)) \n",
    "if schow_intermediate_results:\n",
    "    print('combinaison of prime factor exponents:')\n",
    "    print(combi)\n",
    "    print(40*'-')\n",
    "    # determin the product of each combinaison terms\n",
    "\n",
    "sum_elements=[]\n",
    "for elements in combi:\n",
    "    prod_el=1\n",
    "    for element in elements:\n",
    "        prod_el*=element\n",
    "    sum_elements.append(prod_el)\n",
    "sum_elements\n",
    "sum_elements.sort()\n",
    "\n",
    "if schow_intermediate_results:\n",
    "    print('Sum terms:')\n",
    "    print(sum_elements)\n",
    "    print(40*'-')\n",
    "\n",
    "    # cutting sum_eement in 4 sub list to solve the problem of memory\n",
    "    ## data will be saved in files\n",
    "index_for_cutting=int(len(sum_elements)/4)\n",
    "\n",
    "if index_for_cutting<2:\n",
    "    number_of_poss_quad=[]\n",
    "    for sum_el in sum_elements:\n",
    "        number_of_poss_quad.append(number_of_possible_quadrilaterals(sum_el**(1/2)))\n",
    "        final_result=sum(number_of_poss_quad)\n",
    "        \n",
    "\n",
    "        \n",
    "else:\n",
    "    list1=sum_elements[0:index_for_cutting]\n",
    "    list2=sum_elements[index_for_cutting:2*index_for_cutting]\n",
    "    list3=sum_elements[2*index_for_cutting:3*index_for_cutting]\n",
    "    list4=sum_elements[3*index_for_cutting:]\n",
    "    \n",
    "    number_of_poss_quad_1={}\n",
    "    for sum_el in list1:  \n",
    "        number_of_poss_quad_1[sum_el]=number_of_possible_quadrilaterals(sum_el**(1/2))\n",
    "    with open('number_of_poss_quad_1_test.txt', 'w') as f:\n",
    "        print(number_of_poss_quad_1, file=f)\n",
    "    \n",
    "    number_of_poss_quad_2={}\n",
    "    for sum_el in list2:  \n",
    "        number_of_poss_quad_2[sum_el]=number_of_possible_quadrilaterals(sum_el**(1/2))\n",
    "    with open('number_of_poss_quad_2_test.txt', 'w') as f:\n",
    "        print(number_of_poss_quad_2, file=f)\n",
    "    \n",
    "    number_of_poss_quad_3={}\n",
    "    for sum_el in list3:  \n",
    "        number_of_poss_quad_3[sum_el]=number_of_possible_quadrilaterals(sum_el**(1/2))        \n",
    "    with open('number_of_poss_quad_3_test.txt', 'w') as f:\n",
    "        print(number_of_poss_quad_3, file=f)\n",
    "        \n",
    "    number_of_poss_quad_4={}\n",
    "    for sum_el in list4:  \n",
    "        number_of_poss_quad_4[sum_el]=number_of_possible_quadrilaterals(sum_el**(1/2))\n",
    "    with open('number_of_poss_quad_4_test.txt', 'w') as f:\n",
    "        print(number_of_poss_quad_4, file=f)\n",
    "    \n",
    "    number_of_poss_quad={**number_of_poss_quad_1,**number_of_poss_quad_2,**number_of_poss_quad_3,**number_of_poss_quad_4}\n",
    "    final_result=sum(number_of_poss_quad.values())\n",
    "    \n",
    "\n",
    "\n",
    "if schow_intermediate_results:\n",
    "    print('number of pythagorean lattice grid quadrilateral:')    \n",
    "    print(number_of_poss_quad)\n",
    "    print(40*'-')\n",
    "\n",
    "n, final_result    \n",
    "\n",
    "\n",
    "\n",
    "\n"
   ]
  },
  {
   "cell_type": "code",
   "execution_count": 6,
   "metadata": {
    "ExecuteTime": {
     "end_time": "2020-09-24T08:03:36.663141Z",
     "start_time": "2020-09-24T08:03:36.570933Z"
    },
    "code_folding": [
     0
    ]
   },
   "outputs": [
    {
     "data": {
      "text/plain": [
       "2370"
      ]
     },
     "execution_count": 6,
     "metadata": {},
     "output_type": "execute_result"
    }
   ],
   "source": [
    "#2: new number_of_possible_quadrilaterals function\n",
    "\n",
    "from sympy import factorint\n",
    "from scipy.special import comb\n",
    "import itertools \n",
    "import math\n",
    "\n",
    "\n",
    "\n",
    "#n= 1411033124176203125\n",
    "\n",
    "def possible_quadrilateral_points2(r=(17*13*5)**(1/2)):\n",
    "\n",
    "    points=[]\n",
    "    for i in range(int(r)*2+1):\n",
    "        A=i-int(r)\n",
    "        B_sup=math.sqrt(round(r**2)-A**2)\n",
    "        if B_sup== int(B_sup):\n",
    "            B=int(B_sup)\n",
    "            points.append([A,B])\n",
    "    if list(map(lambda x: -x , points[-1]))==points[0]:\n",
    "        points=points[1:]\n",
    "    neg_points=[]\n",
    "    for point in points:\n",
    "        neg_points.append([-point[0],-point[1]])\n",
    "    points=points+neg_points\n",
    "    return points\n",
    "\n",
    "def get_comb2(x=['1','2','3','4','5','6','7','8'],n=4):\n",
    "    \"\"\"get all cpossible combinaison of n element in the list x\"\"\"\n",
    "    combinations=set((itertools.combinations(x,n)))\n",
    "    #combinations\n",
    "    return combinations\n",
    "\n",
    "\n",
    "def number_of_possible_quadrilaterals2(n=5):\n",
    "    \"\"\"determine the number of pythagorean lattice grid quadrilateral\"\"\"\n",
    "    # get all possible points for the quadrilateral\n",
    "    points=possible_quadrilateral_points2(n)\n",
    "\n",
    "\n",
    "    # build a point dictionary\n",
    "    points_dict={}\n",
    "    for i in range(len(points)):\n",
    "        points_dict[(i+1)]=points[i]\n",
    "\n",
    "    x=list(points_dict.keys())\n",
    "    k=4\n",
    "\n",
    "    # get all possible quadrilaterals\n",
    "    combi=get_comb2(x,k)\n",
    "\n",
    "    # get all possible Pythagorean quadrilaterals, that verify the relation a²+b²+c²+d²=8r²\n",
    "    sum_pyth_quad=0\n",
    "    for element in combi:\n",
    "        A=points_dict[element[0]]\n",
    "        B=points_dict[element[1]]\n",
    "        C=points_dict[element[2]]\n",
    "        D=points_dict[element[3]]\n",
    "        a2=((B[0]-A[0])**2+(B[1]-A[1])**2)\n",
    "        b2=((C[0]-B[0])**2+(C[1]-B[1])**2)\n",
    "        c2=((D[0]-C[0])**2+(D[1]-C[1])**2)\n",
    "        d2=((A[0]-D[0])**2+(A[1]-D[1])**2)\n",
    "        if round(a2+b2+c2+d2)==round(8*n*n):\n",
    "            #print(A,B,C,D)\n",
    "            sum_pyth_quad+=1\n",
    "    return sum_pyth_quad\n",
    "\n",
    "def sum_num_pos_pyt_quad2(n= 1105,schow_intermediate_results=True):\n",
    "    \n",
    "    #get prime factors of n\n",
    "    prim_factors=factorint(n)\n",
    "    if schow_intermediate_results:\n",
    "        print(40*'-')\n",
    "        print('The prime factor decomposition n:',n,'-->',prim_factors)\n",
    "        print(40*'-')\n",
    "    nums=list(prim_factors.keys())\n",
    "    exp_max=list(prim_factors.values())\n",
    "\n",
    "    #find all terms of the sum\n",
    "\n",
    "        #find all the exponents of the prime factors \n",
    "    numbs=[]\n",
    "    for i in range(len(nums)):\n",
    "        nu=[]\n",
    "        for exp in range(exp_max[i]+1):\n",
    "            nu.append(nums[i]**exp)\n",
    "        numbs.append(nu)\n",
    "\n",
    "        #get all the combinaison of prime factor exponents\n",
    "    combi=list(itertools.product(*numbs)) \n",
    "    if schow_intermediate_results:\n",
    "        print('combinaison of prime factor exponents:')\n",
    "        print(combi)\n",
    "        print(40*'-')\n",
    "        # determin the product of each combinaison terms\n",
    "\n",
    "    sum_elements=[]\n",
    "    for elements in combi:\n",
    "        prod_el=1\n",
    "        for element in elements:\n",
    "            prod_el*=element\n",
    "        sum_elements.append(prod_el)\n",
    "    sum_elements\n",
    "    sum_elements.sort()\n",
    "    if schow_intermediate_results:\n",
    "        print('Sum terms:')\n",
    "        print(sum_elements)\n",
    "        print(40*'-')\n",
    "\n",
    "    \n",
    "    #for each sum element find the number of possible quadrilaterals\n",
    "    number_of_poss_quad=[]\n",
    "    for sum_el in sum_elements:\n",
    "        number_of_poss_quad.append(number_of_possible_quadrilaterals2(sum_el**(1/2)))\n",
    "\n",
    "    if schow_intermediate_results:\n",
    "        print('number of pythagorean lattice grid quadrilateral:')    \n",
    "        print(number_of_poss_quad)\n",
    "        print(40*'-')\n",
    "    \n",
    "    #build the sum of the number of possible quadrilaterals\n",
    "    final_result=sum(number_of_poss_quad)\n",
    "    return final_result\n",
    "\n",
    "sum_num_pos_pyt_quad2(n,schow_intermediate_results=False)"
   ]
  },
  {
   "cell_type": "code",
   "execution_count": 7,
   "metadata": {
    "ExecuteTime": {
     "end_time": "2020-09-24T08:03:37.203538Z",
     "start_time": "2020-09-24T08:03:37.112556Z"
    },
    "code_folding": [
     0
    ]
   },
   "outputs": [
    {
     "data": {
      "text/plain": [
       "2370"
      ]
     },
     "execution_count": 7,
     "metadata": {},
     "output_type": "execute_result"
    }
   ],
   "source": [
    "#1 first version\n",
    "from sympy import factorint\n",
    "from scipy.special import comb\n",
    "import itertools \n",
    "\n",
    "\n",
    "#n= 1411033124176203125\n",
    "\n",
    "def isqrt(n=5):\n",
    "    \"\"\"determin the closest integer squareroot from n\"\"\"\n",
    "    x = n\n",
    "    y = (x + 1) // 2\n",
    "    while y < x:\n",
    "        x = y\n",
    "        y = (x + n // x) // 2 \n",
    "    return x\n",
    "\n",
    "def possible_quadrilateral_points(r=5):\n",
    "    \"\"\"find the crossing point of a circle of radius r and the lattice grid\"\"\"\n",
    "    rang=int(2*isqrt(r**2)+1)\n",
    "    rang\n",
    "    points=[] \n",
    "    for i in range(rang):\n",
    "        a=(i-isqrt(r**2))\n",
    "        for j in range(rang):\n",
    "            b=(j-isqrt(r**2))\n",
    "            if int(a**2)+int(b**2)==round(r**2):\n",
    "                points.append([a,b])\n",
    "    return points\n",
    "\n",
    "def get_comb(x=['1','2','3','4','5','6','7','8'],n=4):\n",
    "    \"\"\"get all cpossible combinaison of n element in the list x\"\"\"\n",
    "    combinations=set((itertools.combinations(x,n)))\n",
    "    #combinations\n",
    "    return combinations\n",
    "\n",
    "\n",
    "def number_of_possible_quadrilaterals(n=5):\n",
    "    \"\"\"determine the number of pythagorean lattice grid quadrilateral\"\"\"\n",
    "    # get all possible points for the quadrilateral\n",
    "    points=possible_quadrilateral_points(n)\n",
    "\n",
    "    # order the points in proper order\n",
    "    even_p=[]\n",
    "    odd_p=[]\n",
    "    for i in range(len(points)):\n",
    "        if i%2==0:\n",
    "            even_p.append(points[i])\n",
    "        else:\n",
    "            odd_p.append(points[-i])\n",
    "    points=even_p+ odd_p\n",
    "\n",
    "    # build a point dictionary\n",
    "    points_dict={}\n",
    "    for i in range(len(points)):\n",
    "        points_dict[(i+1)]=points[i]\n",
    "\n",
    "    x=list(points_dict.keys())\n",
    "    k=4\n",
    "\n",
    "    # get all possible quadrilaterals\n",
    "    combi=get_comb(x,k)\n",
    "\n",
    "    # get all possible Pythagorean quadrilaterals, that verify the relation a²+b²+c²+d²=8r²\n",
    "    sum_pyth_quad=0\n",
    "    for element in combi:\n",
    "        A=points_dict[element[0]]\n",
    "        B=points_dict[element[1]]\n",
    "        C=points_dict[element[2]]\n",
    "        D=points_dict[element[3]]\n",
    "        a2=((B[0]-A[0])**2+(B[1]-A[1])**2)\n",
    "        b2=((C[0]-B[0])**2+(C[1]-B[1])**2)\n",
    "        c2=((D[0]-C[0])**2+(D[1]-C[1])**2)\n",
    "        d2=((A[0]-D[0])**2+(A[1]-D[1])**2)\n",
    "        if round(a2+b2+c2+d2)==round(8*n*n):\n",
    "            #print(A,B,C,D)\n",
    "            sum_pyth_quad+=1\n",
    "    return sum_pyth_quad\n",
    "\n",
    "def sum_num_pos_pyt_quad(n= 1105,schow_intermediate_results=True):\n",
    "    \n",
    "    #get prime factors of n\n",
    "    prim_factors=factorint(n)\n",
    "    if schow_intermediate_results:\n",
    "        print(40*'-')\n",
    "        print('The prime factor decomposition n:',n,'-->',prim_factors)\n",
    "        print(40*'-')\n",
    "    nums=list(prim_factors.keys())\n",
    "    exp_max=list(prim_factors.values())\n",
    "\n",
    "    #find all terms of the sum\n",
    "\n",
    "        #find all the exponents of the prime factors \n",
    "    numbs=[]\n",
    "    for i in range(len(nums)):\n",
    "        nu=[]\n",
    "        for exp in range(exp_max[i]+1):\n",
    "            nu.append(nums[i]**exp)\n",
    "        numbs.append(nu)\n",
    "\n",
    "        #get all the combinaison of prime factor exponents\n",
    "    combi=list(itertools.product(*numbs)) \n",
    "    if schow_intermediate_results:\n",
    "        print('combinaison of prime factor exponents:')\n",
    "        print(combi)\n",
    "        print(40*'-')\n",
    "        # determin the product of each combinaison terms\n",
    "\n",
    "    sum_elements=[]\n",
    "    for elements in combi:\n",
    "        prod_el=1\n",
    "        for element in elements:\n",
    "            prod_el*=element\n",
    "        sum_elements.append(prod_el)\n",
    "    sum_elements\n",
    "    sum_elements.sort()\n",
    "    if schow_intermediate_results:\n",
    "        print('Sum terms:')\n",
    "        print(sum_elements)\n",
    "        print(40*'-')\n",
    "\n",
    "    \n",
    "    #for each sum element find the number of possible quadrilaterals\n",
    "    number_of_poss_quad=[]\n",
    "    for sum_el in sum_elements:\n",
    "        number_of_poss_quad.append(number_of_possible_quadrilaterals(sum_el**(1/2)))\n",
    "\n",
    "    if schow_intermediate_results:\n",
    "        print('number of pythagorean lattice grid quadrilateral:')    \n",
    "        print(number_of_poss_quad)\n",
    "        print(40*'-')\n",
    "    \n",
    "    #build the sum of the number of possible quadrilaterals\n",
    "    final_result=sum(number_of_poss_quad)\n",
    "    return final_result\n",
    "sum_num_pos_pyt_quad(n,schow_intermediate_results=False)"
   ]
  },
  {
   "cell_type": "code",
   "execution_count": 8,
   "metadata": {
    "ExecuteTime": {
     "end_time": "2020-09-24T08:03:37.726259Z",
     "start_time": "2020-09-24T08:03:37.702324Z"
    },
    "code_folding": [
     0
    ]
   },
   "outputs": [],
   "source": [
    "#4 multiprossesing \n",
    "\n",
    "if False:\n",
    "\n",
    "    import time\n",
    "\n",
    "    start = time.perf_counter()\n",
    "\n",
    "    #from multiprocessing import Process\n",
    "    import concurrent.futures\n",
    "    import os\n",
    "\n",
    "    from sympy import factorint\n",
    "    from scipy.special import comb\n",
    "    import itertools \n",
    "    import math\n",
    "    import csv\n",
    "\n",
    "\n",
    "    def possible_quadrilateral_points(r=(17*13*5)**(1/2)):\n",
    "\n",
    "        points=[]\n",
    "        for i in range(int(r)*2+1):\n",
    "            A=i-int(r)\n",
    "            B_sup=math.sqrt(round(r**2)-A**2)\n",
    "            if B_sup== int(B_sup):\n",
    "                B=int(B_sup)\n",
    "                points.append([A,B])\n",
    "        if list(map(lambda x: -x , points[-1]))==points[0]:\n",
    "            points=points[1:]\n",
    "        neg_points=[]\n",
    "        for point in points:\n",
    "            neg_points.append([-point[0],-point[1]])\n",
    "        points=points+neg_points\n",
    "        return points\n",
    "\n",
    "    def get_comb(x=['1','2','3','4','5','6','7','8'],n=4):\n",
    "        \"\"\"get all cpossible combinaison of n element in the list x\"\"\"\n",
    "        combinations=set((itertools.combinations(x,n)))\n",
    "        #combinations\n",
    "        return combinations\n",
    "\n",
    "    def number_of_possible_quadrilaterals(n=5):\n",
    "        \"\"\"determine the number of pythagorean lattice grid quadrilateral\"\"\"\n",
    "        # get all possible points for the quadrilateral\n",
    "        points=possible_quadrilateral_points(n)\n",
    "\n",
    "\n",
    "        # build a point dictionary\n",
    "        points_dict={}\n",
    "        for i in range(len(points)):\n",
    "            points_dict[(i+1)]=points[i]\n",
    "\n",
    "        x=list(points_dict.keys())\n",
    "        k=4\n",
    "\n",
    "        # get all possible quadrilaterals\n",
    "        combi=get_comb(x,k)\n",
    "\n",
    "        # get all possible Pythagorean quadrilaterals, that verify the relation a²+b²+c²+d²=8r²\n",
    "        sum_pyth_quad=0\n",
    "        for element in combi:\n",
    "            A=points_dict[element[0]]\n",
    "            B=points_dict[element[1]]\n",
    "            C=points_dict[element[2]]\n",
    "            D=points_dict[element[3]]\n",
    "            a2=((B[0]-A[0])**2+(B[1]-A[1])**2)\n",
    "            b2=((C[0]-B[0])**2+(C[1]-B[1])**2)\n",
    "            c2=((D[0]-C[0])**2+(D[1]-C[1])**2)\n",
    "            d2=((A[0]-D[0])**2+(A[1]-D[1])**2)\n",
    "            if round(a2+b2+c2+d2)==round(8*n*n):\n",
    "                #print(A,B,C,D)\n",
    "                sum_pyth_quad+=1\n",
    "        return sum_pyth_quad\n",
    "\n",
    "    ######### new IDEA concerning the memory problem######\n",
    "\n",
    "\n",
    "    schow_intermediate_results=False\n",
    "    #get prime factors of n\n",
    "    prim_factors=factorint(n)\n",
    "    if schow_intermediate_results:\n",
    "        print(40*'-')\n",
    "        print('The prime factor decomposition n:',n,'-->',prim_factors)\n",
    "        print(40*'-')\n",
    "    nums=list(prim_factors.keys())\n",
    "    exp_max=list(prim_factors.values())\n",
    "\n",
    "    #find all terms of the sum\n",
    "\n",
    "        #find all the exponents of the prime factors \n",
    "    numbs=[]\n",
    "    for i in range(len(nums)):\n",
    "        nu=[]\n",
    "        for exp in range(exp_max[i]+1):\n",
    "            nu.append(nums[i]**exp)\n",
    "        numbs.append(nu)\n",
    "\n",
    "        #get all the combinaison of prime factor exponents\n",
    "    combi=list(itertools.product(*numbs)) \n",
    "    if schow_intermediate_results:\n",
    "        print('combinaison of prime factor exponents:')\n",
    "        print(combi)\n",
    "        print(40*'-')\n",
    "        # determin the product of each combinaison terms\n",
    "\n",
    "    sum_elements=[]\n",
    "    for elements in combi:\n",
    "        prod_el=1\n",
    "        for element in elements:\n",
    "            prod_el*=element\n",
    "        sum_elements.append(prod_el)\n",
    "    sum_elements\n",
    "    sum_elements.sort()\n",
    "\n",
    "    def chunks(l, n):\n",
    "        \"\"\"Yield n number of striped chunks from l.\"\"\"\n",
    "        for i in range(0, n):\n",
    "            yield l[i::n]\n",
    "    sum_elements_chunked=list(chunks(sum_elements,os.cpu_count()))\n",
    "\n",
    "    def number_of_poss_quadrilateras_chunk(l):\n",
    "        with open('number_of_poss_quad_mp_test.csv', 'a') as f:     \n",
    "            writer = csv.writer(f, delimiter=',', quoting=csv.QUOTE_MINIMAL)\n",
    "            for sum_el in l:   \n",
    "                number_of_poss_quad=number_of_possible_quadrilaterals(sum_el**(1/2))\n",
    "                writer.writerow([sum_el, number_of_poss_quad])\n",
    "        return None\n",
    "\n",
    "\n",
    "\n",
    "    def main():\n",
    "        with concurrent.futures.ProcessPoolExecutor(max_workers=4) as executor:\n",
    "            results = executor.map(number_of_poss_quadrilateras_chunk, sum_elements_chunked)  \n",
    "\n",
    "\n",
    "    if __name__ == '__main__':\n",
    "        main()\n",
    "\n",
    "    finish = time.perf_counter()\n",
    "\n",
    "    print(f'Finished in {round(finish-start, 2)} second(s)')"
   ]
  },
  {
   "cell_type": "code",
   "execution_count": 9,
   "metadata": {
    "ExecuteTime": {
     "end_time": "2020-09-24T08:03:38.340320Z",
     "start_time": "2020-09-24T08:03:38.253263Z"
    },
    "code_folding": [
     0
    ]
   },
   "outputs": [
    {
     "name": "stdout",
     "output_type": "stream",
     "text": [
      "325 0\n",
      "Finished in 0.05 second(s)\n"
     ]
    }
   ],
   "source": [
    "#5 using generators\n",
    "import time\n",
    "\n",
    "start = time.perf_counter()\n",
    "\n",
    "#from multiprocessing import Process\n",
    "import concurrent.futures\n",
    "import os\n",
    "\n",
    "from sympy import factorint\n",
    "from scipy.special import comb\n",
    "import itertools \n",
    "import math\n",
    "import csv\n",
    "\n",
    "def possible_quadrilateral_points(r=(17)**(1/2)):\n",
    "    i=0\n",
    "    length=0\n",
    "    points=[]\n",
    "    while i < (int(r)*2+1):\n",
    "        A=i-int(r)\n",
    "        B_sup=math.sqrt(round(r**2)-A**2)\n",
    "        if B_sup== int(B_sup):\n",
    "            B=int(B_sup)\n",
    "            length+=1\n",
    "            yield[A,B]\n",
    "        i+=1\n",
    "    yield length\n",
    "\n",
    "def get_comb(x=['1','2','3','4','5','6','7','8'],n=4):\n",
    "    \"\"\"get all cpossible combinaison of n element in the list x\"\"\"\n",
    "    combinations=set((itertools.combinations(x,n)))\n",
    "    #combinations\n",
    "    return combinations\n",
    "\n",
    "def sum_quad(combo,points_dict):\n",
    "    i=0\n",
    "    sum_pyth_quad=0\n",
    "    while i<len(combo):   \n",
    "        A=points_dict[combo[i][0]]\n",
    "        B=points_dict[combo[i][1]]\n",
    "        C=points_dict[combo[i][2]]\n",
    "        D=points_dict[combo[i][3]]\n",
    "        a2=((B[0]-A[0])**2+(B[1]-A[1])**2)\n",
    "        b2=((C[0]-B[0])**2+(C[1]-B[1])**2)\n",
    "        c2=((D[0]-C[0])**2+(D[1]-C[1])**2)\n",
    "        d2=((A[0]-D[0])**2+(A[1]-D[1])**2)\n",
    "        #print(A,B,C,D)\n",
    "        #print(a2+b2+c2+d2,8*n*n)\n",
    "        i+=1\n",
    "        if round(a2+b2+c2+d2)==round(8*n*n):\n",
    "            sum_pyth_quad+=1\n",
    "        yield sum_pyth_quad\n",
    "\n",
    "def number_of_possible_quadrilaterals(n):\n",
    "    *_, length = possible_quadrilateral_points(n) # for a better understanding check PEP 448\n",
    "    #print('length',length)\n",
    "\n",
    "    itterator_points= possible_quadrilateral_points(n)\n",
    "    points_dict={}\n",
    "    if length%2==0:\n",
    "        for i in range(length):\n",
    "            pt=next(itterator_points)\n",
    "            points_dict[(i+1)]=pt\n",
    "            points_dict[(length+i+1)]=[-pt[0],-pt[1]]\n",
    "    else:\n",
    "        next(itterator_points)\n",
    "        for i in range(0,length-1):\n",
    "            pt=next(itterator_points)\n",
    "            points_dict[(i+1)]=pt\n",
    "            points_dict[(length+i)]=[-pt[0],-pt[1]]\n",
    "\n",
    "    # get all possible quadrilaterals\n",
    "    x=sorted(points_dict.keys())\n",
    "    k=4\n",
    "    combi=list(get_comb(x,k))\n",
    "\n",
    "    *_, sum_pyth_quad = sum_quad(combi,points_dict) # for a better understanding check PEP 448\n",
    "    return sum_pyth_quad\n",
    "\n",
    "######### new IDEA concerning the memory problem######\n",
    "\n",
    "#get prime factors of n\n",
    "prim_factors=factorint(n)\n",
    "nums=list(prim_factors.keys())\n",
    "exp_max=list(prim_factors.values())\n",
    "\n",
    "#find all terms of the sum\n",
    "\n",
    "    #find all the exponents of the prime factors \n",
    "numbs=[]\n",
    "for i in range(len(nums)):\n",
    "    nu=[]\n",
    "    for exp in range(exp_max[i]+1):\n",
    "        nu.append(nums[i]**exp)\n",
    "    numbs.append(nu)\n",
    "\n",
    "    #get all the combinaison of prime factor exponents\n",
    "combi=list(itertools.product(*numbs)) \n",
    "\n",
    "    # determin the product of each combinaison terms\n",
    "\n",
    "sum_elements=[]\n",
    "for elements in combi:\n",
    "    prod_el=1\n",
    "    for element in elements:\n",
    "        prod_el*=element\n",
    "    sum_elements.append(prod_el)\n",
    "sum_elements\n",
    "sum_elements.sort()\n",
    "\n",
    "number_of_poss_quad=[]\n",
    "for sum_el in sum_elements:\n",
    "    number_of_poss_quad.append(number_of_possible_quadrilaterals(sum_el**(1/2)))\n",
    "\n",
    "#build the sum of the number of possible quadrilaterals\n",
    "final_result=sum(number_of_poss_quad)\n",
    "\n",
    "print(n,final_result)\n",
    "\n",
    "finish = time.perf_counter()\n",
    "\n",
    "print(f'Finished in {round(finish-start, 2)} second(s)')"
   ]
  },
  {
   "cell_type": "code",
   "execution_count": 10,
   "metadata": {
    "ExecuteTime": {
     "end_time": "2020-09-24T08:03:45.621244Z",
     "start_time": "2020-09-24T08:03:45.549396Z"
    }
   },
   "outputs": [
    {
     "name": "stdout",
     "output_type": "stream",
     "text": [
      "1 0\n",
      "5 0\n",
      "13 0\n",
      "25 0\n",
      "65 0\n",
      "325 0\n"
     ]
    }
   ],
   "source": [
    "for sum_el in sum_elements:\n",
    "    print(sum_el, number_of_possible_quadrilaterals(sum_el**(1/2)))"
   ]
  },
  {
   "cell_type": "code",
   "execution_count": 11,
   "metadata": {
    "ExecuteTime": {
     "end_time": "2020-09-24T08:03:51.980258Z",
     "start_time": "2020-09-24T08:03:51.959356Z"
    }
   },
   "outputs": [
    {
     "data": {
      "text/plain": [
       "0"
      ]
     },
     "execution_count": 11,
     "metadata": {},
     "output_type": "execute_result"
    }
   ],
   "source": [
    "number_of_possible_quadrilaterals(25**(1/2))"
   ]
  },
  {
   "cell_type": "code",
   "execution_count": 12,
   "metadata": {
    "ExecuteTime": {
     "end_time": "2020-09-24T08:03:54.797220Z",
     "start_time": "2020-09-24T08:03:53.713688Z"
    }
   },
   "outputs": [
    {
     "data": {
      "text/plain": [
       "404600"
      ]
     },
     "execution_count": 12,
     "metadata": {},
     "output_type": "execute_result"
    }
   ],
   "source": [
    "import pandas as pd \n",
    "df = pd.read_csv(\"number_of_poss_quad_test_2.csv\",header=None) \n",
    "df[1].sum()"
   ]
  },
  {
   "cell_type": "code",
   "execution_count": 13,
   "metadata": {
    "ExecuteTime": {
     "end_time": "2020-09-24T08:03:54.812613Z",
     "start_time": "2020-09-24T08:03:54.799147Z"
    }
   },
   "outputs": [
    {
     "data": {
      "text/plain": [
       "404600"
      ]
     },
     "execution_count": 13,
     "metadata": {},
     "output_type": "execute_result"
    }
   ],
   "source": [
    "import pandas as pd \n",
    "df = pd.read_csv(\"number_of_poss_quad_big_sol.csv\",header=None) \n",
    "df[1].sum()"
   ]
  },
  {
   "cell_type": "code",
   "execution_count": 14,
   "metadata": {
    "ExecuteTime": {
     "end_time": "2020-09-24T08:03:57.660432Z",
     "start_time": "2020-09-24T08:03:57.651302Z"
    }
   },
   "outputs": [],
   "source": [
    "## solving generator problems"
   ]
  },
  {
   "cell_type": "code",
   "execution_count": 15,
   "metadata": {
    "ExecuteTime": {
     "end_time": "2020-09-24T08:03:57.898623Z",
     "start_time": "2020-09-24T08:03:57.882664Z"
    },
    "code_folding": []
   },
   "outputs": [],
   "source": [
    "#B for loop"
   ]
  },
  {
   "cell_type": "code",
   "execution_count": 16,
   "metadata": {
    "ExecuteTime": {
     "end_time": "2020-09-24T08:03:58.196775Z",
     "start_time": "2020-09-24T08:03:58.085973Z"
    },
    "code_folding": [
     0
    ]
   },
   "outputs": [
    {
     "data": {
      "text/plain": [
       "1682"
      ]
     },
     "execution_count": 16,
     "metadata": {},
     "output_type": "execute_result"
    }
   ],
   "source": [
    "#\n",
    "import time\n",
    "\n",
    "start = time.perf_counter()\n",
    "\n",
    "#from multiprocessing import Process\n",
    "import concurrent.futures\n",
    "import os\n",
    "\n",
    "from sympy import factorint\n",
    "from scipy.special import comb\n",
    "import itertools \n",
    "import math\n",
    "import csv\n",
    "\n",
    "#n=(5**2)*(13**0)*(17**0)\n",
    "#n=29*37*41*53*61\n",
    "#n=(5**3)*(13**3)*(17**2)\n",
    "n=325**(1/2)\n",
    "\n",
    "def possible_quadrilateral_points(r=(17*13*5)**(1/2)):\n",
    "\n",
    "    points=[]\n",
    "    for i in range(int(r)*2+1):\n",
    "        A=i-int(r)\n",
    "        B_sup=math.sqrt(round(r**2)-A**2)\n",
    "        if B_sup== int(B_sup):\n",
    "            B=int(B_sup)\n",
    "            points.append([A,B])\n",
    "    if list(map(lambda x: -x , points[-1]))==points[0]:\n",
    "        points=points[1:]\n",
    "    neg_points=[]\n",
    "    for point in points:\n",
    "        neg_points.append([-point[0],-point[1]])\n",
    "    points=points+neg_points\n",
    "    return points\n",
    "\n",
    "def get_comb(x=['1','2','3','4','5','6','7','8'],n=4):\n",
    "    \"\"\"get all cpossible combinaison of n element in the list x\"\"\"\n",
    "    combinations=set((itertools.combinations(x,n)))\n",
    "    #combinations\n",
    "    return combinations\n",
    "\n",
    "    \n",
    "points=possible_quadrilateral_points(n)\n",
    "\n",
    "\n",
    "# build a point dictionary\n",
    "points_dict={}\n",
    "for i in range(len(points)):\n",
    "    points_dict[(i+1)]=points[i]\n",
    "\n",
    "x=list(points_dict.keys())\n",
    "k=4\n",
    "\n",
    "# get all possible quadrilaterals\n",
    "combi=get_comb(x,k)\n",
    "\n",
    "# get all possible Pythagorean quadrilaterals, that verify the relation a²+b²+c²+d²=8r²\n",
    "sum_pyth_quad=0\n",
    "for element in combi:\n",
    "    A=points_dict[element[0]]\n",
    "    B=points_dict[element[1]]\n",
    "    C=points_dict[element[2]]\n",
    "    D=points_dict[element[3]]\n",
    "    a2=((B[0]-A[0])**2+(B[1]-A[1])**2)\n",
    "    b2=((C[0]-B[0])**2+(C[1]-B[1])**2)\n",
    "    c2=((D[0]-C[0])**2+(D[1]-C[1])**2)\n",
    "    d2=((A[0]-D[0])**2+(A[1]-D[1])**2)\n",
    "    if round(a2+b2+c2+d2)==round(8*n*n):\n",
    "        #print(A,B,C,D)\n",
    "        sum_pyth_quad+=1\n",
    "sum_pyth_quad"
   ]
  },
  {
   "cell_type": "code",
   "execution_count": 17,
   "metadata": {
    "ExecuteTime": {
     "end_time": "2020-09-24T08:03:58.981161Z",
     "start_time": "2020-09-24T08:03:58.978704Z"
    }
   },
   "outputs": [],
   "source": [
    "#A generator"
   ]
  },
  {
   "cell_type": "code",
   "execution_count": 18,
   "metadata": {
    "ExecuteTime": {
     "end_time": "2020-09-24T08:03:59.311040Z",
     "start_time": "2020-09-24T08:03:59.286364Z"
    },
    "code_folding": []
   },
   "outputs": [],
   "source": [
    "#\n",
    "import time\n",
    "\n",
    "start = time.perf_counter()\n",
    "\n",
    "#from multiprocessing import Process\n",
    "import concurrent.futures\n",
    "import os\n",
    "\n",
    "from sympy import factorint\n",
    "from scipy.special import comb\n",
    "import itertools \n",
    "import math\n",
    "import csv\n",
    "#n=5**(1/2)\n",
    "def possible_quadrilateral_points(r=(17)**(1/2)):\n",
    "    i=0\n",
    "    length=0\n",
    "    points=[]\n",
    "    while i < (int(r)*2+1):\n",
    "        A=i-int(r)\n",
    "        B_sup=math.sqrt(round(r**2)-A**2)\n",
    "        if B_sup== int(B_sup):\n",
    "            B=int(B_sup)\n",
    "            length+=1\n",
    "            yield[A,B]\n",
    "        i+=1\n",
    "    yield length\n",
    "\n",
    "def get_comb(x=['1','2','3','4','5','6','7','8'],n=4):\n",
    "    \"\"\"get all cpossible combinaison of n element in the list x\"\"\"\n",
    "    combinations=set((itertools.combinations(x,n)))\n",
    "    #combinations\n",
    "    return combinations\n",
    "\n",
    "def sum_quad(combo,points_dict):\n",
    "    i=0\n",
    "    sum_pyth_quad=0\n",
    "    while i<len(combo):   \n",
    "        A=points_dict[combo[i][0]]\n",
    "        B=points_dict[combo[i][1]]\n",
    "        C=points_dict[combo[i][2]]\n",
    "        D=points_dict[combo[i][3]]\n",
    "        a2=((B[0]-A[0])**2+(B[1]-A[1])**2)\n",
    "        b2=((C[0]-B[0])**2+(C[1]-B[1])**2)\n",
    "        c2=((D[0]-C[0])**2+(D[1]-C[1])**2)\n",
    "        d2=((A[0]-D[0])**2+(A[1]-D[1])**2)\n",
    "        #print(A,B,C,D)\n",
    "        #print(a2+b2+c2+d2,8*n*n)\n",
    "        i+=1\n",
    "        if round(a2+b2+c2+d2)==round(8*n*n):\n",
    "            sum_pyth_quad+=1\n",
    "        yield sum_pyth_quad\n",
    "\n",
    "def number_of_possible_quadrilaterals(n):\n",
    "    *_, length = possible_quadrilateral_points(n) # for a better understanding check PEP 448\n",
    "    #print('length',length)\n",
    "\n",
    "    itterator_points= possible_quadrilateral_points(n)\n",
    "    points_dict={}\n",
    "    if length%2==0:\n",
    "        for i in range(length):\n",
    "            pt=next(itterator_points)\n",
    "            points_dict[(i+1)]=pt\n",
    "            points_dict[(length+i+1)]=[-pt[0],-pt[1]]\n",
    "    else:\n",
    "        next(itterator_points)\n",
    "        for i in range(0,length-1):\n",
    "            pt=next(itterator_points)\n",
    "            points_dict[(i+1)]=pt\n",
    "            points_dict[(length+i)]=[-pt[0],-pt[1]]\n",
    "\n",
    "    # get all possible quadrilaterals\n",
    "    x=sorted(points_dict.keys())\n",
    "    k=4\n",
    "    combi=list(get_comb(x,k))\n",
    "\n",
    "    *_, sum_pyth_quad = sum_quad(combi,points_dict) # for a better understanding check PEP 448\n",
    "    return sum_pyth_quad\n",
    "#number_of_possible_quadrilaterals(n)"
   ]
  },
  {
   "cell_type": "code",
   "execution_count": 38,
   "metadata": {
    "ExecuteTime": {
     "end_time": "2020-09-24T08:06:16.419464Z",
     "start_time": "2020-09-24T08:06:16.403569Z"
    }
   },
   "outputs": [
    {
     "data": {
      "text/plain": [
       "[1, 5, 13, 25, 65, 325]"
      ]
     },
     "execution_count": 38,
     "metadata": {},
     "output_type": "execute_result"
    }
   ],
   "source": [
    "def sum_el(sum_elements):\n",
    "\n",
    "    yield sum_elements\n",
    "next(sum_el(sum_elements))"
   ]
  },
  {
   "cell_type": "code",
   "execution_count": 39,
   "metadata": {
    "ExecuteTime": {
     "end_time": "2020-09-24T08:06:18.204137Z",
     "start_time": "2020-09-24T08:06:18.191103Z"
    }
   },
   "outputs": [
    {
     "data": {
      "text/plain": [
       "[1, 5, 13, 25, 65, 325]"
      ]
     },
     "execution_count": 39,
     "metadata": {},
     "output_type": "execute_result"
    }
   ],
   "source": [
    "next(sum_el(sum_elements))"
   ]
  },
  {
   "cell_type": "code",
   "execution_count": 34,
   "metadata": {
    "ExecuteTime": {
     "end_time": "2020-09-24T08:05:46.093828Z",
     "start_time": "2020-09-24T08:05:46.079843Z"
    }
   },
   "outputs": [
    {
     "data": {
      "text/plain": [
       "[1, 5, 13, 25, 65, 325]"
      ]
     },
     "execution_count": 34,
     "metadata": {},
     "output_type": "execute_result"
    }
   ],
   "source": [
    "sum_elements"
   ]
  },
  {
   "cell_type": "code",
   "execution_count": null,
   "metadata": {},
   "outputs": [],
   "source": []
  }
 ],
 "metadata": {
  "kernelspec": {
   "display_name": "Python 3",
   "language": "python",
   "name": "python3"
  },
  "language_info": {
   "codemirror_mode": {
    "name": "ipython",
    "version": 3
   },
   "file_extension": ".py",
   "mimetype": "text/x-python",
   "name": "python",
   "nbconvert_exporter": "python",
   "pygments_lexer": "ipython3",
   "version": "3.7.7"
  },
  "latex_envs": {
   "LaTeX_envs_menu_present": true,
   "autoclose": false,
   "autocomplete": true,
   "bibliofile": "biblio.bib",
   "cite_by": "apalike",
   "current_citInitial": 1,
   "eqLabelWithNumbers": true,
   "eqNumInitial": 1,
   "hotkeys": {
    "equation": "Ctrl-E",
    "itemize": "Ctrl-I"
   },
   "labels_anchors": false,
   "latex_user_defs": false,
   "report_style_numbering": false,
   "user_envs_cfg": false
  },
  "toc": {
   "base_numbering": 1,
   "nav_menu": {},
   "number_sections": true,
   "sideBar": true,
   "skip_h1_title": false,
   "title_cell": "Table of Contents",
   "title_sidebar": "Contents",
   "toc_cell": false,
   "toc_position": {},
   "toc_section_display": true,
   "toc_window_display": false
  },
  "varInspector": {
   "cols": {
    "lenName": 16,
    "lenType": 16,
    "lenVar": 40
   },
   "kernels_config": {
    "python": {
     "delete_cmd_postfix": "",
     "delete_cmd_prefix": "del ",
     "library": "var_list.py",
     "varRefreshCmd": "print(var_dic_list())"
    },
    "r": {
     "delete_cmd_postfix": ") ",
     "delete_cmd_prefix": "rm(",
     "library": "var_list.r",
     "varRefreshCmd": "cat(var_dic_list()) "
    }
   },
   "types_to_exclude": [
    "module",
    "function",
    "builtin_function_or_method",
    "instance",
    "_Feature"
   ],
   "window_display": false
  }
 },
 "nbformat": 4,
 "nbformat_minor": 4
}
